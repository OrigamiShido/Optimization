{
 "cells": [
  {
   "cell_type": "code",
   "execution_count": 8,
   "id": "initial_id",
   "metadata": {
    "collapsed": true,
    "ExecuteTime": {
     "end_time": "2024-04-08T01:36:02.141152Z",
     "start_time": "2024-04-08T01:36:02.058559Z"
    }
   },
   "outputs": [
    {
     "ename": "TypeError",
     "evalue": "'float' object cannot be interpreted as an integer",
     "output_type": "error",
     "traceback": [
      "\u001B[1;31m---------------------------------------------------------------------------\u001B[0m",
      "\u001B[1;31mTypeError\u001B[0m                                 Traceback (most recent call last)",
      "Cell \u001B[1;32mIn[8], line 69\u001B[0m\n\u001B[0;32m     67\u001B[0m p\u001B[38;5;241m=\u001B[39m[\u001B[38;5;241m1\u001B[39m,\u001B[38;5;241m1\u001B[39m,\u001B[38;5;241m1\u001B[39m,\u001B[38;5;241m1\u001B[39m,\u001B[38;5;241m1\u001B[39m,\u001B[38;5;241m1\u001B[39m,\u001B[38;5;241m1\u001B[39m,\u001B[38;5;241m1\u001B[39m,\u001B[38;5;241m1\u001B[39m]\n\u001B[0;32m     68\u001B[0m x\u001B[38;5;241m=\u001B[39mnp\u001B[38;5;241m.\u001B[39mlinspace(\u001B[38;5;241m1\u001B[39m,\u001B[38;5;241m2\u001B[39m,\u001B[38;5;241m100\u001B[39m)\n\u001B[1;32m---> 69\u001B[0m pBFGS\u001B[38;5;241m=\u001B[39m\u001B[43masnewton\u001B[49m\u001B[43m(\u001B[49m\u001B[43mx\u001B[49m\u001B[43m,\u001B[49m\u001B[43mp\u001B[49m\u001B[43m,\u001B[49m\u001B[38;5;241;43m1e-6\u001B[39;49m\u001B[43m,\u001B[49m\u001B[38;5;124;43m'\u001B[39;49m\u001B[38;5;124;43mBFGS\u001B[39;49m\u001B[38;5;124;43m'\u001B[39;49m\u001B[43m)\u001B[49m\n\u001B[0;32m     70\u001B[0m pDFP\u001B[38;5;241m=\u001B[39masnewton(x,p,\u001B[38;5;241m1e-6\u001B[39m,\u001B[38;5;124m'\u001B[39m\u001B[38;5;124mDFP\u001B[39m\u001B[38;5;124m'\u001B[39m)\n\u001B[0;32m     72\u001B[0m yBFGS\u001B[38;5;241m=\u001B[39m[yt(xi,pBFGS) \u001B[38;5;28;01mfor\u001B[39;00m xi \u001B[38;5;129;01min\u001B[39;00m x]\n",
      "Cell \u001B[1;32mIn[8], line 43\u001B[0m, in \u001B[0;36masnewton\u001B[1;34m(xs, p, epsilon, method)\u001B[0m\n\u001B[0;32m     41\u001B[0m H\u001B[38;5;241m=\u001B[39mnp\u001B[38;5;241m.\u001B[39meye(np\u001B[38;5;241m.\u001B[39msize(p))\n\u001B[0;32m     42\u001B[0m time\u001B[38;5;241m=\u001B[39m\u001B[38;5;241m0\u001B[39m\n\u001B[1;32m---> 43\u001B[0m grad\u001B[38;5;241m=\u001B[39m\u001B[43mgradtargetfunction\u001B[49m\u001B[43m(\u001B[49m\u001B[43mxs\u001B[49m\u001B[43m,\u001B[49m\u001B[43mp\u001B[49m\u001B[43m,\u001B[49m\u001B[38;5;241;43m1e-6\u001B[39;49m\u001B[43m)\u001B[49m\n\u001B[0;32m     44\u001B[0m \u001B[38;5;28;01mwhile\u001B[39;00m \u001B[38;5;28;01mTrue\u001B[39;00m:\n\u001B[0;32m     45\u001B[0m     \u001B[38;5;28;01mif\u001B[39;00m(np\u001B[38;5;241m.\u001B[39mlinalg\u001B[38;5;241m.\u001B[39mnorm(gradtargetfunction(xs,p,\u001B[38;5;241m1e-6\u001B[39m))\u001B[38;5;241m<\u001B[39m\u001B[38;5;241m=\u001B[39mepsilon):\n",
      "Cell \u001B[1;32mIn[8], line 36\u001B[0m, in \u001B[0;36mgradtargetfunction\u001B[1;34m(xs, p, epsilon)\u001B[0m\n\u001B[0;32m     34\u001B[0m \u001B[38;5;28;01mfor\u001B[39;00m i \u001B[38;5;129;01min\u001B[39;00m \u001B[38;5;28mrange\u001B[39m(np\u001B[38;5;241m.\u001B[39msize(p)):\n\u001B[0;32m     35\u001B[0m     ptemp[i]\u001B[38;5;241m+\u001B[39m\u001B[38;5;241m=\u001B[39mepsilon\n\u001B[1;32m---> 36\u001B[0m     result\u001B[38;5;241m.\u001B[39mappend((\u001B[43mtargetfunction\u001B[49m\u001B[43m(\u001B[49m\u001B[43mxs\u001B[49m\u001B[43m,\u001B[49m\u001B[43mptemp\u001B[49m\u001B[43m)\u001B[49m\u001B[38;5;241m-\u001B[39mtargetfunction(xs,p))\u001B[38;5;241m/\u001B[39mepsilon)\n\u001B[0;32m     37\u001B[0m     ptemp\u001B[38;5;241m=\u001B[39mp\u001B[38;5;241m.\u001B[39mcopy()\n\u001B[0;32m     38\u001B[0m \u001B[38;5;28;01mreturn\u001B[39;00m np\u001B[38;5;241m.\u001B[39mmat(result)\u001B[38;5;241m.\u001B[39mT\n",
      "Cell \u001B[1;32mIn[8], line 29\u001B[0m, in \u001B[0;36mtargetfunction\u001B[1;34m(xs, p)\u001B[0m\n\u001B[0;32m     27\u001B[0m \u001B[38;5;28;01mdef\u001B[39;00m \u001B[38;5;21mtargetfunction\u001B[39m(xs,p):\n\u001B[0;32m     28\u001B[0m     \u001B[38;5;28;01mfor\u001B[39;00m xi \u001B[38;5;129;01min\u001B[39;00m xs:\n\u001B[1;32m---> 29\u001B[0m         \u001B[38;5;28;01mreturn\u001B[39;00m (\u001B[43masgradyt\u001B[49m\u001B[43m(\u001B[49m\u001B[43mxi\u001B[49m\u001B[43m,\u001B[49m\u001B[43mp\u001B[49m\u001B[43m,\u001B[49m\u001B[38;5;241;43m1e-6\u001B[39;49m\u001B[43m)\u001B[49m\u001B[38;5;241m-\u001B[39mdydx(xi,yt(xi,p)))\u001B[38;5;241m*\u001B[39m\u001B[38;5;241m*\u001B[39m\u001B[38;5;241m2\u001B[39m\n",
      "Cell \u001B[1;32mIn[8], line 25\u001B[0m, in \u001B[0;36masgradyt\u001B[1;34m(x, p, epsilon)\u001B[0m\n\u001B[0;32m     24\u001B[0m \u001B[38;5;28;01mdef\u001B[39;00m \u001B[38;5;21masgradyt\u001B[39m(x,p,epsilon):\n\u001B[1;32m---> 25\u001B[0m     \u001B[38;5;28;01mreturn\u001B[39;00m (\u001B[43myt\u001B[49m\u001B[43m(\u001B[49m\u001B[43mx\u001B[49m\u001B[38;5;241;43m+\u001B[39;49m\u001B[43mepsilon\u001B[49m\u001B[43m,\u001B[49m\u001B[43mp\u001B[49m\u001B[43m)\u001B[49m\u001B[38;5;241m-\u001B[39myt(x,p))\u001B[38;5;241m/\u001B[39mepsilon\n",
      "Cell \u001B[1;32mIn[8], line 22\u001B[0m, in \u001B[0;36myt\u001B[1;34m(x, p)\u001B[0m\n\u001B[0;32m     21\u001B[0m \u001B[38;5;28;01mdef\u001B[39;00m \u001B[38;5;21myt\u001B[39m(x,p):\n\u001B[1;32m---> 22\u001B[0m     \u001B[38;5;28;01mreturn\u001B[39;00m \u001B[38;5;241m0.4\u001B[39m\u001B[38;5;241m-\u001B[39m\u001B[43mN\u001B[49m\u001B[43m(\u001B[49m\u001B[38;5;241;43m1\u001B[39;49m\u001B[43m,\u001B[49m\u001B[43mp\u001B[49m\u001B[43m,\u001B[49m\u001B[43mnp\u001B[49m\u001B[38;5;241;43m.\u001B[39;49m\u001B[43msize\u001B[49m\u001B[43m(\u001B[49m\u001B[43mp\u001B[49m\u001B[43m)\u001B[49m\u001B[38;5;241;43m/\u001B[39;49m\u001B[38;5;241;43m3\u001B[39;49m\u001B[43m)\u001B[49m\u001B[38;5;241m+\u001B[39mx\u001B[38;5;241m*\u001B[39mN(x,p,np\u001B[38;5;241m.\u001B[39msize(p)\u001B[38;5;241m/\u001B[39m\u001B[38;5;241m3\u001B[39m)\n",
      "Cell \u001B[1;32mIn[8], line 14\u001B[0m, in \u001B[0;36mN\u001B[1;34m(x, p, n)\u001B[0m\n\u001B[0;32m     12\u001B[0m \u001B[38;5;28;01mdef\u001B[39;00m \u001B[38;5;21mN\u001B[39m(x,p,n):\n\u001B[0;32m     13\u001B[0m     result\u001B[38;5;241m=\u001B[39m\u001B[38;5;241m0\u001B[39m\n\u001B[1;32m---> 14\u001B[0m     \u001B[38;5;28;01mfor\u001B[39;00m i \u001B[38;5;129;01min\u001B[39;00m \u001B[38;5;28;43mrange\u001B[39;49m\u001B[43m(\u001B[49m\u001B[43mn\u001B[49m\u001B[43m)\u001B[49m:\n\u001B[0;32m     15\u001B[0m         result\u001B[38;5;241m+\u001B[39m\u001B[38;5;241m=\u001B[39mp[n\u001B[38;5;241m+\u001B[39mi]\u001B[38;5;241m*\u001B[39msigmoid([p[i]\u001B[38;5;241m*\u001B[39mx\u001B[38;5;241m-\u001B[39mp[\u001B[38;5;241m2\u001B[39m\u001B[38;5;241m*\u001B[39mn\u001B[38;5;241m+\u001B[39mi]])\n\u001B[0;32m     16\u001B[0m     \u001B[38;5;28;01mreturn\u001B[39;00m result\n",
      "\u001B[1;31mTypeError\u001B[0m: 'float' object cannot be interpreted as an integer"
     ]
    }
   ],
   "source": [
    "import numpy as np\n",
    "import pandas as pd\n",
    "import matplotlib.pyplot as plt\n",
    "import math\n",
    "\n",
    "def dydx(x,y):\n",
    "    return x**3-y/x\n",
    "\n",
    "def sigmoid(z):\n",
    "    return 1/(1+math.exp(-z))\n",
    "\n",
    "def N(x,p,n):\n",
    "    result=0\n",
    "    for i in range(n):\n",
    "        result+=p[n+i]*sigmoid([p[i]*x-p[2*n+i]])\n",
    "    return result\n",
    "\n",
    "def precisesolve(x):# 精确解\n",
    "    return x**4/5+1/(5*x)\n",
    "\n",
    "def yt(x,p):\n",
    "    return 0.4-N(1,p,np.size(p)/3)+x*N(x,p,np.size(p)/3)\n",
    "\n",
    "def asgradyt(x,p,epsilon):\n",
    "    return (yt(x+epsilon,p)-yt(x,p))/epsilon\n",
    "\n",
    "def targetfunction(xs,p):\n",
    "    for xi in xs:\n",
    "        return (asgradyt(xi,p,1e-6)-dydx(xi,yt(xi,p)))**2\n",
    "    \n",
    "def gradtargetfunction(xs,p,epsilon):\n",
    "    result=[]\n",
    "    ptemp=p.copy()\n",
    "    for i in range(np.size(p)):\n",
    "        ptemp[i]+=epsilon\n",
    "        result.append((targetfunction(xs,ptemp)-targetfunction(xs,p))/epsilon)\n",
    "        ptemp=p.copy()\n",
    "    return np.mat(result).T\n",
    "\n",
    "def asnewton(xs,p,epsilon,method):#对p搜索\n",
    "    H=np.eye(np.size(p))\n",
    "    time=0\n",
    "    grad=gradtargetfunction(xs,p,1e-6)\n",
    "    while True:\n",
    "        if(np.linalg.norm(gradtargetfunction(xs,p,1e-6))<=epsilon):\n",
    "            break\n",
    "        dk=-H*grad\n",
    "        \n",
    "        alpha = 1#ajmijo没改\n",
    "        #armijo\n",
    "        while True:\n",
    "            if targetfunction(xs,p+alpha*dk)<=targetfunction(xs,p)+0.5*alpha*(grad.T*dk):\n",
    "                break\n",
    "            alpha=alpha*0.5\n",
    "\n",
    "        sk=alpha*dk\n",
    "        gk=grad\n",
    "        grad=gradtargetfunction(xs,p,1e-6)\n",
    "        yk=grad-gk\n",
    "        if method=='BFGS':\n",
    "            H=H+(1+(yk*yk.T)/(yk.T*sk)*(sk*sk.T)/(yk.T*sk)-(sk*yk.T*H+H*yk*sk.T)/(yk.T*sk))\n",
    "        if method=='DFP':\n",
    "            H=H+(sk*sk.T)/(sk.T*yk)-(H*yk*yk.T*H)/(yk.T*H*yk)\n",
    "        time+=1\n",
    "    return p\n",
    "\n",
    "p=[1,1,1,1,1,1,1,1,1]\n",
    "x=np.linspace(1,2,100)\n",
    "pBFGS=asnewton(x,p,1e-6,'BFGS')\n",
    "pDFP=asnewton(x,p,1e-6,'DFP')\n",
    "\n",
    "yBFGS=[yt(xi,pBFGS) for xi in x]\n",
    "yDFP=[yt(xi,pDFP) for xi in x]\n",
    "yP=[precisesolve(x) for xi in x]\n",
    "\n",
    "plt.plot(x,yBFGS)\n",
    "plt.plot(x,yDFP)\n",
    "plt.plot(x,yP)\n",
    "plt.title(\"neuron network\")\n",
    "plt.legend('BFGS','DFP','precise')\n",
    "plt.show()"
   ]
  }
 ],
 "metadata": {
  "kernelspec": {
   "display_name": "Python 3",
   "language": "python",
   "name": "python3"
  },
  "language_info": {
   "codemirror_mode": {
    "name": "ipython",
    "version": 2
   },
   "file_extension": ".py",
   "mimetype": "text/x-python",
   "name": "python",
   "nbconvert_exporter": "python",
   "pygments_lexer": "ipython2",
   "version": "2.7.6"
  }
 },
 "nbformat": 4,
 "nbformat_minor": 5
}
