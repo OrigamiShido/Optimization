{
 "cells": [
  {
   "cell_type": "markdown",
   "id": "67e8b1edd6038f71",
   "metadata": {},
   "source": [
    "# 共轭梯度方法的比较"
   ]
  },
  {
   "cell_type": "code",
   "execution_count": 3,
   "id": "75662afbc0c32793",
   "metadata": {
    "ExecuteTime": {
     "end_time": "2024-04-21T14:07:14.668236Z",
     "start_time": "2024-04-21T14:07:04.255896Z"
    }
   },
   "outputs": [
    {
     "name": "stdout",
     "output_type": "stream",
     "text": [
      "采用非精确线搜索armijo方法：\n",
      "PRP:迭代值：[[1000.]],迭代次数：10,CPU时间：0.546875,实际执行时间：1.9786758422851562\n",
      "FR:迭代值：[[1000.]],迭代次数：14,CPU时间：0.234375,实际执行时间：0.45911502838134766\n",
      "PRP+:迭代值：[[1000.]],迭代次数：6,CPU时间：0.3125,实际执行时间：1.2204349040985107\n",
      "CD:迭代值：[[1000.]],迭代次数：35,CPU时间：1.4375,实际执行时间：4.51496958732605\n",
      "DY:迭代值：[[1000.]],迭代次数：19,CPU时间：0.828125,实际执行时间：2.1485743522644043\n"
     ]
    }
   ],
   "source": [
    "import numpy as np\n",
    "import pandas as pd\n",
    "import matplotlib.pyplot as plt\n",
    "import math\n",
    "import time\n",
    "\n",
    "def targetfunction(xs,length):# 目标函数,xs是一个列向量\n",
    "    result=0\n",
    "    for i in range(length):\n",
    "        result+=(math.exp(xs[i])-xs[i])\n",
    "    return result\n",
    "    \n",
    "def grad(xs,length):# 目标函数的梯度,xs是一个列向量\n",
    "    result=np.zeros((length,1))\n",
    "    for i in range(length):\n",
    "        result[i]=math.exp(xs[i])-1\n",
    "    return np.mat(result)\n",
    "    return np.exp(xs)-1\n",
    "    \n",
    "def Armijo(xk,dk,length):# 非精确线搜索，采用armijo方法\n",
    "    alpha=1\n",
    "    beta=0.5\n",
    "    sigma=0.2\n",
    "    while True:\n",
    "        if targetfunction(xk+alpha*dk,length)<=targetfunction(xk,length)+sigma*alpha*grad(xk,length).T*dk:\n",
    "            break\n",
    "        alpha*=beta\n",
    "    result=xk+alpha*dk\n",
    "    return result\n",
    "\n",
    "def ConjugateMethod(x0,length,method,searchmethod,epsilon):# 共轭梯度法,x0是一个列向量\n",
    "    start1=time.time()\n",
    "    xk=x0\n",
    "    dk=-grad(xk,length)\n",
    "    gk=grad(xk,length)\n",
    "    betak=np.zeros((length,1))\n",
    "    k=0\n",
    "    start = time.process_time()\n",
    "    while True:\n",
    "        if np.linalg.norm(grad(xk,length))<epsilon:\n",
    "            break# 终止条件\n",
    "        #根据方向进行精确线搜索\n",
    "        if searchmethod=='Armijo':\n",
    "            xk=Armijo(xk,dk,length)\n",
    "        elif searchmethod=='Armijo':\n",
    "            xk=Accurate(xk,dk,length)\n",
    "        #确定方向\n",
    "        gk1=gk\n",
    "        dk1=dk\n",
    "        gk=grad(xk,length)\n",
    "        if method=='PRP':\n",
    "            betak=(gk.T*(gk-gk1))/(gk1.T*gk1)\n",
    "        elif method=='FR':\n",
    "            betak=(gk.T*gk)/(gk1.T*gk1)\n",
    "        elif method=='PRP+':\n",
    "            betak=(gk.T*(gk-gk1))/(gk1.T*gk1)\n",
    "            if betak<0:\n",
    "                betak=0\n",
    "        elif method=='CD':\n",
    "            betak=-(gk.T*gk)/(dk1.T*gk1)\n",
    "        elif method=='DY':\n",
    "            betak=(gk.T*gk)/(dk1.T*(gk-gk1))\n",
    "        k+=1\n",
    "        dk=-gk+dk1*betak\n",
    "    end = time.process_time() - start\n",
    "    end1=time.time()-start1\n",
    "    return xk,k,end,end1\n",
    "\n",
    "n=1000\n",
    "X=np.linspace(1/n,1,n)\n",
    "x0=np.mat(X).T\n",
    "epsilon=1e-6\n",
    "print(\"采用非精确线搜索armijo方法：\")\n",
    "xk,k,end,end1=ConjugateMethod(x0,n,'PRP','Armijo',epsilon)\n",
    "print(f\"PRP:迭代值：{targetfunction(xk,n)},迭代次数：{k},CPU时间：{end},实际执行时间：{end1}\")\n",
    "xk,k,end,end1=ConjugateMethod(x0,n,'FR','Armijo',epsilon)\n",
    "print(f\"FR:迭代值：{targetfunction(xk,n)},迭代次数：{k},CPU时间：{end},实际执行时间：{end1}\")\n",
    "xk,k,end,end1=ConjugateMethod(x0,n,'PRP+','Armijo',epsilon)\n",
    "print(f\"PRP+:迭代值：{targetfunction(xk,n)},迭代次数：{k},CPU时间：{end},实际执行时间：{end1}\")\n",
    "xk,k,end,end1=ConjugateMethod(x0,n,'CD','Armijo',epsilon)\n",
    "print(f\"CD:迭代值：{targetfunction(xk,n)},迭代次数：{k},CPU时间：{end},实际执行时间：{end1}\")\n",
    "xk,k,end,end1=ConjugateMethod(x0,n,'DY','Armijo',epsilon)\n",
    "print(f\"DY:迭代值：{targetfunction(xk,n)},迭代次数：{k},CPU时间：{end},实际执行时间：{end1}\")\n"
   ]
  },
  {
   "cell_type": "markdown",
   "id": "79ea444b3e454162",
   "metadata": {},
   "source": [
    "由此可以得出，方法的优劣性PRP+>PRP>FR>DY>CD。与小组其他成员的结果有差异。"
   ]
  },
  {
   "cell_type": "markdown",
   "id": "8d09f08fb57efa9d",
   "metadata": {},
   "source": [
    "# 差异原因：\n",
    "目标函数的定义中使用了循环。增加了代码复杂度，拖慢了执行时间\n",
    "\n",
    "armijo方法的参数设置会导致迭代的次数不同\n",
    "\n",
    "电脑不同配置的性能不同，运行时间有差异\n"
   ]
  },
  {
   "cell_type": "markdown",
   "id": "7fcc81b05fa9bd52",
   "metadata": {},
   "source": [
    "# 改进后："
   ]
  },
  {
   "cell_type": "code",
   "execution_count": 1,
   "id": "10578ce71996c5ce",
   "metadata": {
    "ExecuteTime": {
     "end_time": "2024-04-21T14:04:26.175078Z",
     "start_time": "2024-04-21T14:04:24.233105Z"
    }
   },
   "outputs": [
    {
     "name": "stdout",
     "output_type": "stream",
     "text": [
      "采用非精确线搜索armijo方法：\n",
      "PRP:迭代值：1000.0,迭代次数：10,CPU时间：0.0,实际执行时间：0.007239580154418945\n",
      "FR:迭代值：1000.0,迭代次数：9,CPU时间：0.0,实际执行时间：0.00307464599609375\n",
      "PRP+:迭代值：1000.0,迭代次数：10,CPU时间：0.0,实际执行时间：0.002045154571533203\n",
      "CD:迭代值：1000.0,迭代次数：9,CPU时间：0.0,实际执行时间：0.0029954910278320312\n",
      "DY:迭代值：1000.0,迭代次数：9,CPU时间：0.0,实际执行时间：0.0020046234130859375\n"
     ]
    }
   ],
   "source": [
    "import numpy as np\n",
    "import pandas as pd\n",
    "import matplotlib.pyplot as plt\n",
    "import math\n",
    "import time\n",
    "\n",
    "def targetfunction(xs,length):# 目标函数,xs是一个列向量\n",
    "    '''result=0\n",
    "    for i in range(length):\n",
    "        result+=(math.exp(xs[i])-xs[i])\n",
    "    return result'''\n",
    "    return np.sum(np.exp(xs)-xs)\n",
    "\n",
    "def grad(xs,length):# 目标函数的梯度,xs是一个列向量\n",
    "    '''result=np.zeros((length,1))\n",
    "    for i in range(length):\n",
    "        result[i]=math.exp(xs[i])-1\n",
    "    return np.mat(result)'''\n",
    "    return np.exp(xs)-1\n",
    "    \n",
    "def Armijo(xk,dk,length):# 非精确线搜索，采用armijo方法\n",
    "    alpha=1\n",
    "    beta=0.8\n",
    "    sigma=0.5\n",
    "    while True:\n",
    "        if targetfunction(xk+alpha*dk,length)<=targetfunction(xk,length)+sigma*alpha*grad(xk,length).T*dk:\n",
    "            break\n",
    "        alpha*=beta\n",
    "    result=xk+alpha*dk\n",
    "    return result\n",
    "\n",
    "def ConjugateMethod(x0,length,method,searchmethod,epsilon):# 共轭梯度法,x0是一个列向量\n",
    "    start1=time.time()\n",
    "    xk=x0\n",
    "    dk=-grad(xk,length)\n",
    "    gk=grad(xk,length)\n",
    "    betak=np.zeros((length,1))\n",
    "    k=0\n",
    "    start = time.process_time()\n",
    "    while True:\n",
    "        if np.linalg.norm(grad(xk,length))<epsilon:\n",
    "            break# 终止条件\n",
    "        #根据方向进行精确线搜索\n",
    "        if searchmethod=='Armijo':\n",
    "            xk=Armijo(xk,dk,length)\n",
    "        elif searchmethod=='Armijo':\n",
    "            xk=Accurate(xk,dk,length)\n",
    "        #确定方向\n",
    "        gk1=gk\n",
    "        dk1=dk\n",
    "        gk=grad(xk,length)\n",
    "        if method=='PRP':\n",
    "            betak=(gk.T*(gk-gk1))/(gk1.T*gk1)\n",
    "        elif method=='FR':\n",
    "            betak=(gk.T*gk)/(gk1.T*gk1)\n",
    "        elif method=='PRP+':\n",
    "            betak=(gk.T*(gk-gk1))/(gk1.T*gk1)\n",
    "            if betak<0:\n",
    "                betak=0\n",
    "        elif method=='CD':\n",
    "            betak=-(gk.T*gk)/(dk1.T*gk1)\n",
    "        elif method=='DY':\n",
    "            betak=(gk.T*gk)/(dk1.T*(gk-gk1))\n",
    "        k+=1\n",
    "        dk=-gk+dk1*betak\n",
    "    end = time.process_time() - start\n",
    "    end1=time.time()-start1\n",
    "    return xk,k,end,end1\n",
    "\n",
    "n=1000\n",
    "X=np.linspace(1/n,1,n)\n",
    "x0=np.mat(X).T\n",
    "epsilon=1e-6\n",
    "print(\"采用非精确线搜索armijo方法：\")\n",
    "xk,k,end,end1=ConjugateMethod(x0,n,'PRP','Armijo',epsilon)\n",
    "print(f\"PRP:迭代值：{targetfunction(xk,n)},迭代次数：{k},CPU时间：{end},实际执行时间：{end1}\")\n",
    "xk,k,end,end1=ConjugateMethod(x0,n,'FR','Armijo',epsilon)\n",
    "print(f\"FR:迭代值：{targetfunction(xk,n)},迭代次数：{k},CPU时间：{end},实际执行时间：{end1}\")\n",
    "xk,k,end,end1=ConjugateMethod(x0,n,'PRP+','Armijo',epsilon)\n",
    "print(f\"PRP+:迭代值：{targetfunction(xk,n)},迭代次数：{k},CPU时间：{end},实际执行时间：{end1}\")\n",
    "xk,k,end,end1=ConjugateMethod(x0,n,'CD','Armijo',epsilon)\n",
    "print(f\"CD:迭代值：{targetfunction(xk,n)},迭代次数：{k},CPU时间：{end},实际执行时间：{end1}\")\n",
    "xk,k,end,end1=ConjugateMethod(x0,n,'DY','Armijo',epsilon)\n",
    "print(f\"DY:迭代值：{targetfunction(xk,n)},迭代次数：{k},CPU时间：{end},实际执行时间：{end1}\")\n"
   ]
  },
  {
   "cell_type": "markdown",
   "id": "ad42f99aff67ee18",
   "metadata": {},
   "source": [
    "可知，代码优化之后的执行时间和迭代次数有了明显提升。效果更好。\n",
    "由此可以比较：代码的优劣性DY>CD>FR>PRP+>PRP。"
   ]
  }
 ],
 "metadata": {
  "kernelspec": {
   "display_name": "Python 3 (ipykernel)",
   "language": "python",
   "name": "python3"
  },
  "language_info": {
   "codemirror_mode": {
    "name": "ipython",
    "version": 3
   },
   "file_extension": ".py",
   "mimetype": "text/x-python",
   "name": "python",
   "nbconvert_exporter": "python",
   "pygments_lexer": "ipython3",
   "version": "3.10.9"
  }
 },
 "nbformat": 4,
 "nbformat_minor": 5
}
